{
  "cells": [
    {
      "cell_type": "markdown",
      "metadata": {
        "id": "view-in-github",
        "colab_type": "text"
      },
      "source": [
        "<a href=\"https://colab.research.google.com/github/harinig07/Content-Based-Image-Retrieval/blob/main/NAS.ipynb\" target=\"_parent\"><img src=\"https://colab.research.google.com/assets/colab-badge.svg\" alt=\"Open In Colab\"/></a>"
      ]
    },
    {
      "cell_type": "code",
      "execution_count": null,
      "metadata": {
        "colab": {
          "base_uri": "https://localhost:8080/"
        },
        "id": "8VUNnP4c7MHc",
        "outputId": "22883a92-286b-4fbf-cae9-da944e17c8f2"
      },
      "outputs": [
        {
          "output_type": "stream",
          "name": "stdout",
          "text": [
            "Cloning into 'nas-without-training'...\n",
            "remote: Enumerating objects: 282, done.\u001b[K\n",
            "remote: Counting objects: 100% (52/52), done.\u001b[K\n",
            "remote: Compressing objects: 100% (15/15), done.\u001b[K\n",
            "remote: Total 282 (delta 42), reused 37 (delta 37), pack-reused 230\u001b[K\n",
            "Receiving objects: 100% (282/282), 911.42 KiB | 3.84 MiB/s, done.\n",
            "Resolving deltas: 100% (113/113), done.\n"
          ]
        }
      ],
      "source": [
        "#CLONE THE CODE\n",
        "!git clone https://github.com/BayesWatch/nas-without-training.git\n"
      ]
    },
    {
      "cell_type": "code",
      "execution_count": null,
      "metadata": {
        "colab": {
          "base_uri": "https://localhost:8080/"
        },
        "id": "TCLzn6YspPxy",
        "outputId": "7fcc3cf5-c8c7-4c8d-a757-b50e80026a6f"
      },
      "outputs": [
        {
          "output_type": "stream",
          "name": "stdout",
          "text": [
            "Looking in indexes: https://pypi.org/simple, https://us-python.pkg.dev/colab-wheels/public/simple/\n",
            "Collecting condacolab\n",
            "  Using cached condacolab-0.1.6-py3-none-any.whl (6.8 kB)\n",
            "Installing collected packages: condacolab\n",
            "Successfully installed condacolab-0.1.6\n",
            "\u001b[33mWARNING: Running pip as the 'root' user can result in broken permissions and conflicting behaviour with the system package manager. It is recommended to use a virtual environment instead: https://pip.pypa.io/warnings/venv\u001b[0m\u001b[33m\n",
            "\u001b[0m✨🍰✨ Everything looks OK!\n"
          ]
        }
      ],
      "source": [
        "#INSTALL COLAB\n",
        "!pip install condacolab\n",
        "import condacolab\n",
        "condacolab.install()"
      ]
    },
    {
      "cell_type": "code",
      "execution_count": null,
      "metadata": {
        "id": "mdhGFWIsELO2",
        "colab": {
          "base_uri": "https://localhost:8080/"
        },
        "outputId": "6daa7365-bd75-4d56-ee04-15d74a7151eb"
      },
      "outputs": [
        {
          "output_type": "stream",
          "name": "stdout",
          "text": [
            "/content/nas-without-training/nas-without-training\n",
            "\n",
            "CondaValueError: prefix already exists: /usr/local/envs/naswot2\n",
            "\n"
          ]
        }
      ],
      "source": [
        "%cd nas-without-training\n",
        "!conda env create -f env.yml"
      ]
    },
    {
      "cell_type": "code",
      "execution_count": null,
      "metadata": {
        "id": "RDSmRI7jmQnM",
        "colab": {
          "base_uri": "https://localhost:8080/"
        },
        "outputId": "7cacdfab-cd58-470d-d7b9-dc1cd0ee43f0"
      },
      "outputs": [
        {
          "output_type": "stream",
          "name": "stdout",
          "text": [
            "/content\n",
            "fatal: destination path 'nasbench' already exists and is not an empty directory.\n"
          ]
        }
      ],
      "source": [
        "%cd /content\n",
        "!git clone https://github.com/google-research/nasbench\n"
      ]
    },
    {
      "cell_type": "code",
      "execution_count": null,
      "metadata": {
        "id": "oN_f28-NJ0nY",
        "colab": {
          "base_uri": "https://localhost:8080/"
        },
        "outputId": "d3b68edf-37e3-4fe6-df70-e49406b2a7a6"
      },
      "outputs": [
        {
          "output_type": "stream",
          "name": "stdout",
          "text": [
            "mkdir: cannot create directory ‘/content/nas-without-training/nasbench’: File exists\n",
            "mv: cannot stat '/content/nasbench/nasbench/*': No such file or directory\n"
          ]
        }
      ],
      "source": [
        "!mkdir /content/nas-without-training/nasbench   # create the directory\n",
        "!mv /content/nasbench/nasbench/* /content/nas-without-training/nasbench   # move the files\n"
      ]
    },
    {
      "cell_type": "code",
      "execution_count": null,
      "metadata": {
        "colab": {
          "base_uri": "https://localhost:8080/"
        },
        "id": "GNF4N3qGGywT",
        "outputId": "c913a324-4c10-422a-baff-213c829918c4"
      },
      "outputs": [
        {
          "output_type": "stream",
          "name": "stdout",
          "text": [
            "/content/nas-without-training/src/nasbench-master\n"
          ]
        }
      ],
      "source": [
        "%cd /content/nas-without-training/src/nasbench-master"
      ]
    },
    {
      "cell_type": "code",
      "execution_count": null,
      "metadata": {
        "colab": {
          "base_uri": "https://localhost:8080/"
        },
        "id": "EnfvMaDOG8KP",
        "outputId": "8729e8f5-7daf-4b98-910f-405d269559fd"
      },
      "outputs": [
        {
          "output_type": "stream",
          "name": "stdout",
          "text": [
            "Looking in indexes: https://pypi.org/simple, https://us-python.pkg.dev/colab-wheels/public/simple/\n",
            "Obtaining file:///content/nas-without-training/src/nasbench-master\n",
            "  Preparing metadata (setup.py): started\n",
            "  Preparing metadata (setup.py): finished with status 'done'\n",
            "Collecting tensorflow<=1.15.0 (from nasbench==1.0)\n",
            "  Downloading tensorflow-1.15.0-cp37-cp37m-manylinux2010_x86_64.whl (412.3 MB)\n",
            "     ━━━━━━━━━━━━━━━━━━━━━━━━━━━━━━━━━━━━━━━ 412.3/412.3 MB 3.6 MB/s eta 0:00:00\n",
            "Collecting absl-py>=0.7.0 (from tensorflow<=1.15.0->nasbench==1.0)\n",
            "  Downloading absl_py-1.4.0-py3-none-any.whl (126 kB)\n",
            "     ━━━━━━━━━━━━━━━━━━━━━━━━━━━━━━━━━━━━━━ 126.5/126.5 kB 19.3 MB/s eta 0:00:00\n",
            "Collecting astor>=0.6.0 (from tensorflow<=1.15.0->nasbench==1.0)\n",
            "  Downloading astor-0.8.1-py2.py3-none-any.whl (27 kB)\n",
            "Collecting gast==0.2.2 (from tensorflow<=1.15.0->nasbench==1.0)\n",
            "  Downloading gast-0.2.2.tar.gz (10 kB)\n",
            "  Preparing metadata (setup.py): started\n",
            "  Preparing metadata (setup.py): finished with status 'done'\n",
            "Collecting google-pasta>=0.1.6 (from tensorflow<=1.15.0->nasbench==1.0)\n",
            "  Downloading google_pasta-0.2.0-py3-none-any.whl (57 kB)\n",
            "     ━━━━━━━━━━━━━━━━━━━━━━━━━━━━━━━━━━━━━━━━ 57.5/57.5 kB 7.8 MB/s eta 0:00:00\n",
            "Collecting keras-applications>=1.0.8 (from tensorflow<=1.15.0->nasbench==1.0)\n",
            "  Downloading Keras_Applications-1.0.8-py3-none-any.whl (50 kB)\n",
            "     ━━━━━━━━━━━━━━━━━━━━━━━━━━━━━━━━━━━━━━━━ 50.7/50.7 kB 7.0 MB/s eta 0:00:00\n",
            "Collecting keras-preprocessing>=1.0.5 (from tensorflow<=1.15.0->nasbench==1.0)\n",
            "  Downloading Keras_Preprocessing-1.1.2-py2.py3-none-any.whl (42 kB)\n",
            "     ━━━━━━━━━━━━━━━━━━━━━━━━━━━━━━━━━━━━━━━━ 42.6/42.6 kB 5.5 MB/s eta 0:00:00\n",
            "Requirement already satisfied: numpy<2.0,>=1.16.0 in /usr/local/envs/naswot2/lib/python3.7/site-packages (from tensorflow<=1.15.0->nasbench==1.0) (1.21.6)\n",
            "Collecting opt-einsum>=2.3.2 (from tensorflow<=1.15.0->nasbench==1.0)\n",
            "  Downloading opt_einsum-3.3.0-py3-none-any.whl (65 kB)\n",
            "     ━━━━━━━━━━━━━━━━━━━━━━━━━━━━━━━━━━━━━━━━ 65.5/65.5 kB 9.7 MB/s eta 0:00:00\n",
            "Requirement already satisfied: six>=1.10.0 in /usr/local/envs/naswot2/lib/python3.7/site-packages (from tensorflow<=1.15.0->nasbench==1.0) (1.16.0)\n",
            "Collecting protobuf>=3.6.1 (from tensorflow<=1.15.0->nasbench==1.0)\n",
            "  Downloading protobuf-4.22.3-cp37-abi3-manylinux2014_x86_64.whl (302 kB)\n",
            "     ━━━━━━━━━━━━━━━━━━━━━━━━━━━━━━━━━━━━━━ 302.4/302.4 kB 31.9 MB/s eta 0:00:00\n",
            "Collecting tensorboard<1.16.0,>=1.15.0 (from tensorflow<=1.15.0->nasbench==1.0)\n",
            "  Downloading tensorboard-1.15.0-py3-none-any.whl (3.8 MB)\n",
            "     ━━━━━━━━━━━━━━━━━━━━━━━━━━━━━━━━━━━━━━━━ 3.8/3.8 MB 90.8 MB/s eta 0:00:00\n",
            "Collecting tensorflow-estimator==1.15.1 (from tensorflow<=1.15.0->nasbench==1.0)\n",
            "  Downloading tensorflow_estimator-1.15.1-py2.py3-none-any.whl (503 kB)\n",
            "     ━━━━━━━━━━━━━━━━━━━━━━━━━━━━━━━━━━━━━━ 503.4/503.4 kB 50.8 MB/s eta 0:00:00\n",
            "Collecting termcolor>=1.1.0 (from tensorflow<=1.15.0->nasbench==1.0)\n",
            "  Downloading termcolor-2.3.0-py3-none-any.whl (6.9 kB)\n",
            "Collecting wrapt>=1.11.1 (from tensorflow<=1.15.0->nasbench==1.0)\n",
            "  Downloading wrapt-1.15.0-cp37-cp37m-manylinux_2_5_x86_64.manylinux1_x86_64.manylinux_2_17_x86_64.manylinux2014_x86_64.whl (75 kB)\n",
            "     ━━━━━━━━━━━━━━━━━━━━━━━━━━━━━━━━━━━━━━━━ 75.7/75.7 kB 10.9 MB/s eta 0:00:00\n",
            "Collecting grpcio>=1.8.6 (from tensorflow<=1.15.0->nasbench==1.0)\n",
            "  Downloading grpcio-1.54.0-cp37-cp37m-manylinux_2_17_x86_64.manylinux2014_x86_64.whl (5.1 MB)\n",
            "     ━━━━━━━━━━━━━━━━━━━━━━━━━━━━━━━━━━━━━━━━ 5.1/5.1 MB 69.5 MB/s eta 0:00:00\n",
            "Requirement already satisfied: wheel>=0.26 in /usr/local/envs/naswot2/lib/python3.7/site-packages (from tensorflow<=1.15.0->nasbench==1.0) (0.40.0)\n",
            "Collecting h5py (from keras-applications>=1.0.8->tensorflow<=1.15.0->nasbench==1.0)\n",
            "  Downloading h5py-3.8.0-cp37-cp37m-manylinux_2_17_x86_64.manylinux2014_x86_64.whl (4.3 MB)\n",
            "     ━━━━━━━━━━━━━━━━━━━━━━━━━━━━━━━━━━━━━━━━ 4.3/4.3 MB 57.3 MB/s eta 0:00:00\n",
            "Collecting markdown>=2.6.8 (from tensorboard<1.16.0,>=1.15.0->tensorflow<=1.15.0->nasbench==1.0)\n",
            "  Downloading Markdown-3.4.3-py3-none-any.whl (93 kB)\n",
            "     ━━━━━━━━━━━━━━━━━━━━━━━━━━━━━━━━━━━━━━━━ 93.9/93.9 kB 12.3 MB/s eta 0:00:00\n",
            "Requirement already satisfied: setuptools>=41.0.0 in /usr/local/envs/naswot2/lib/python3.7/site-packages (from tensorboard<1.16.0,>=1.15.0->tensorflow<=1.15.0->nasbench==1.0) (59.8.0)\n",
            "Collecting werkzeug>=0.11.15 (from tensorboard<1.16.0,>=1.15.0->tensorflow<=1.15.0->nasbench==1.0)\n",
            "  Downloading Werkzeug-2.2.3-py3-none-any.whl (233 kB)\n",
            "     ━━━━━━━━━━━━━━━━━━━━━━━━━━━━━━━━━━━━━━ 233.6/233.6 kB 25.2 MB/s eta 0:00:00\n",
            "Collecting importlib-metadata>=4.4 (from markdown>=2.6.8->tensorboard<1.16.0,>=1.15.0->tensorflow<=1.15.0->nasbench==1.0)\n",
            "  Downloading importlib_metadata-6.6.0-py3-none-any.whl (22 kB)\n",
            "Collecting MarkupSafe>=2.1.1 (from werkzeug>=0.11.15->tensorboard<1.16.0,>=1.15.0->tensorflow<=1.15.0->nasbench==1.0)\n",
            "  Downloading MarkupSafe-2.1.2-cp37-cp37m-manylinux_2_17_x86_64.manylinux2014_x86_64.whl (25 kB)\n",
            "Collecting zipp>=0.5 (from importlib-metadata>=4.4->markdown>=2.6.8->tensorboard<1.16.0,>=1.15.0->tensorflow<=1.15.0->nasbench==1.0)\n",
            "  Downloading zipp-3.15.0-py3-none-any.whl (6.8 kB)\n",
            "Requirement already satisfied: typing-extensions>=3.6.4 in /usr/local/envs/naswot2/lib/python3.7/site-packages (from importlib-metadata>=4.4->markdown>=2.6.8->tensorboard<1.16.0,>=1.15.0->tensorflow<=1.15.0->nasbench==1.0) (4.5.0)\n",
            "Building wheels for collected packages: gast\n",
            "  Building wheel for gast (setup.py): started\n",
            "  Building wheel for gast (setup.py): finished with status 'done'\n",
            "  Created wheel for gast: filename=gast-0.2.2-py3-none-any.whl size=7553 sha256=83fa2da1b535bda2f1c667ac5b7365b4145f4d219ae8da9ad579cf716149998a\n",
            "  Stored in directory: /root/.cache/pip/wheels/21/7f/02/420f32a803f7d0967b48dd823da3f558c5166991bfd204eef3\n",
            "Successfully built gast\n",
            "Installing collected packages: tensorflow-estimator, zipp, wrapt, termcolor, protobuf, opt-einsum, MarkupSafe, keras-preprocessing, h5py, grpcio, google-pasta, gast, astor, absl-py, werkzeug, keras-applications, importlib-metadata, markdown, tensorboard, tensorflow, nasbench\n",
            "  Running setup.py develop for nasbench\n",
            "Successfully installed MarkupSafe-2.1.2 absl-py-1.4.0 astor-0.8.1 gast-0.2.2 google-pasta-0.2.0 grpcio-1.54.0 h5py-3.8.0 importlib-metadata-6.6.0 keras-applications-1.0.8 keras-preprocessing-1.1.2 markdown-3.4.3 nasbench-1.0 opt-einsum-3.3.0 protobuf-4.22.3 tensorboard-1.15.0 tensorflow-1.15.0 tensorflow-estimator-1.15.1 termcolor-2.3.0 werkzeug-2.2.3 wrapt-1.15.0 zipp-3.15.0\n"
          ]
        },
        {
          "output_type": "stream",
          "name": "stderr",
          "text": [
            "WARNING: Running pip as the 'root' user can result in broken permissions and conflicting behaviour with the system package manager. It is recommended to use a virtual environment instead: https://pip.pypa.io/warnings/venv\n"
          ]
        }
      ],
      "source": [
        "%%bash\n",
        "source activate naswot2\n",
        "#CHANGE THE VERSION OF TENSORFLOW TO 1.15.0 IN setup.py FILE, BEFORE INSTALLING \n",
        "pip install -e . "
      ]
    },
    {
      "cell_type": "code",
      "execution_count": null,
      "metadata": {
        "colab": {
          "base_uri": "https://localhost:8080/"
        },
        "id": "2xidC1CHxwBF",
        "outputId": "44d9bc8a-d87c-4a13-9abd-c4128f0e0b1e"
      },
      "outputs": [
        {
          "output_type": "stream",
          "name": "stdout",
          "text": [
            "/content\n"
          ]
        }
      ],
      "source": [
        "%cd /content/"
      ]
    },
    {
      "cell_type": "code",
      "execution_count": null,
      "metadata": {
        "colab": {
          "base_uri": "https://localhost:8080/"
        },
        "id": "tSgNqeHpwuby",
        "outputId": "7d1d9d38-5e32-49ab-a13c-61c1091ef35e"
      },
      "outputs": [
        {
          "output_type": "stream",
          "name": "stdout",
          "text": [
            "--2023-04-25 17:03:56--  https://dl.fbaipublicfiles.com/nds/data.zip\n",
            "Resolving dl.fbaipublicfiles.com (dl.fbaipublicfiles.com)... 13.35.7.128, 13.35.7.82, 13.35.7.50, ...\n",
            "Connecting to dl.fbaipublicfiles.com (dl.fbaipublicfiles.com)|13.35.7.128|:443... connected.\n",
            "HTTP request sent, awaiting response... 200 OK\n",
            "Length: 151218295 (144M) [application/zip]\n",
            "Saving to: ‘data.zip.1’\n",
            "\n",
            "data.zip.1          100%[===================>] 144.21M  82.8MB/s    in 1.7s    \n",
            "\n",
            "2023-04-25 17:03:58 (82.8 MB/s) - ‘data.zip.1’ saved [151218295/151218295]\n",
            "\n"
          ]
        }
      ],
      "source": [
        "!wget https://dl.fbaipublicfiles.com/nds/data.zip"
      ]
    },
    {
      "cell_type": "code",
      "execution_count": null,
      "metadata": {
        "colab": {
          "base_uri": "https://localhost:8080/"
        },
        "id": "GpobAEdExNPk",
        "outputId": "0ad4e03f-012f-459f-9a8c-8033e2750ca8"
      },
      "outputs": [
        {
          "output_type": "stream",
          "name": "stdout",
          "text": [
            "/content/nas-without-training/nas-without-training\n",
            "Archive:  /content/data.zip\n",
            "   creating: nds_data/\n",
            "  inflating: nds_data/ENAS_in.json   \n",
            "  inflating: nds_data/ResNet.json    \n",
            "  inflating: nds_data/ResNeXt-A_in.json  \n",
            "  inflating: nds_data/Amoeba.json    \n",
            "  inflating: nds_data/DARTS_lr-wd_in.json  \n",
            "  inflating: nds_data/ResNeXt-B.json  \n",
            "  inflating: nds_data/ResNet_rng1.json  \n",
            "  inflating: nds_data/PNAS_fix-w-d.json  \n",
            "  inflating: nds_data/NASNet_in.json  \n",
            "  inflating: nds_data/Vanilla_rng1.json  \n",
            "  inflating: nds_data/ENAS_fix-w-d.json  \n",
            "  inflating: nds_data/Vanilla_lr-wd.json  \n",
            "  inflating: nds_data/DARTS_in.json  \n",
            "  inflating: nds_data/Vanilla_reruns.json  \n",
            "  inflating: nds_data/NASNet.json    \n",
            "  inflating: nds_data/ResNeXt-B_in.json  \n",
            "  inflating: nds_data/DARTS.json     \n",
            "  inflating: nds_data/Vanilla_rng3.json  \n",
            "  inflating: nds_data/ENAS.json      \n",
            "  inflating: nds_data/PNAS.json      \n",
            "  inflating: nds_data/ResNet_rng3.json  \n",
            "  inflating: nds_data/ResNet_rng2.json  \n",
            "  inflating: nds_data/Vanilla_rng2.json  \n",
            "  inflating: nds_data/ResNet-B.json  \n",
            "  inflating: nds_data/Vanilla_lr-wd_in.json  \n",
            "  inflating: nds_data/ResNet_lr-wd.json  \n",
            "  inflating: nds_data/DARTS_lr-wd.json  \n",
            "  inflating: nds_data/ResNeXt-A.json  \n",
            "  inflating: nds_data/PNAS_in.json   \n",
            "  inflating: nds_data/Vanilla.json   \n",
            "  inflating: nds_data/ResNet_reruns.json  \n",
            "  inflating: nds_data/ResNet_lr-wd_in.json  \n",
            "  inflating: nds_data/Amoeba_in.json  \n",
            "  inflating: nds_data/DARTS_fix-w-d.json  \n"
          ]
        }
      ],
      "source": [
        "#PLACE JSON FILES INTO NASWOT\n",
        "%cd nas-without-training\n",
        "!unzip /content/data.zip"
      ]
    },
    {
      "cell_type": "code",
      "execution_count": null,
      "metadata": {
        "colab": {
          "base_uri": "https://localhost:8080/"
        },
        "id": "HF1t56hryNlj",
        "outputId": "61e33203-1a3b-4623-92ae-ca48061aced9"
      },
      "outputs": [
        {
          "output_type": "stream",
          "name": "stdout",
          "text": [
            "--2023-04-25 17:04:36--  https://storage.googleapis.com/nasbench/nasbench_full.tfrecord\n",
            "Resolving storage.googleapis.com (storage.googleapis.com)... 108.177.97.128, 74.125.203.128, 74.125.204.128, ...\n",
            "Connecting to storage.googleapis.com (storage.googleapis.com)|108.177.97.128|:443... connected.\n",
            "HTTP request sent, awaiting response... 200 OK\n",
            "Length: 2085986016 (1.9G) [application/octet-stream]\n",
            "Saving to: ‘nasbench_full.tfrecord’\n",
            "\n",
            "nasbench_full.tfrec 100%[===================>]   1.94G  23.5MB/s    in 84s     \n",
            "\n",
            "2023-04-25 17:06:00 (23.7 MB/s) - ‘nasbench_full.tfrecord’ saved [2085986016/2085986016]\n",
            "\n"
          ]
        }
      ],
      "source": [
        "# %cd nds_data\n",
        "!wget https://storage.googleapis.com/nasbench/nasbench_full.tfrecord"
      ]
    },
    {
      "cell_type": "code",
      "execution_count": null,
      "metadata": {
        "id": "BajLY5HLG9K6",
        "colab": {
          "base_uri": "https://localhost:8080/"
        },
        "outputId": "b90f3f87-7389-42c8-83bc-4bb1557ae2a8"
      },
      "outputs": [
        {
          "output_type": "stream",
          "name": "stdout",
          "text": [
            "Looking in indexes: https://pypi.org/simple, https://us-python.pkg.dev/colab-wheels/public/simple/\n",
            "Requirement already satisfied: yacs in /usr/local/envs/naswot2/lib/python3.7/site-packages (0.1.8)\n",
            "Requirement already satisfied: PyYAML in /usr/local/envs/naswot2/lib/python3.7/site-packages (from yacs) (6.0)\n"
          ]
        },
        {
          "output_type": "stream",
          "name": "stderr",
          "text": [
            "WARNING: Running pip as the 'root' user can result in broken permissions and conflicting behaviour with the system package manager. It is recommended to use a virtual environment instead: https://pip.pypa.io/warnings/venv\n"
          ]
        }
      ],
      "source": [
        "%%bash\n",
        "source activate naswot2\n",
        "\n",
        "python3.7 -m pip install yacs"
      ]
    },
    {
      "cell_type": "code",
      "execution_count": null,
      "metadata": {
        "colab": {
          "base_uri": "https://localhost:8080/"
        },
        "id": "kOHpc2fTHOdd",
        "outputId": "9a75afa1-1d30-4eaf-8359-5a44165eff73"
      },
      "outputs": [
        {
          "output_type": "stream",
          "name": "stdout",
          "text": [
            "Python 3.7.12\n",
            "Looking in indexes: https://pypi.org/simple, https://us-python.pkg.dev/colab-wheels/public/simple/\n",
            "Requirement already satisfied: simplejson in /usr/local/envs/naswot2/lib/python3.7/site-packages (3.19.1)\n"
          ]
        },
        {
          "output_type": "stream",
          "name": "stderr",
          "text": [
            "WARNING: Running pip as the 'root' user can result in broken permissions and conflicting behaviour with the system package manager. It is recommended to use a virtual environment instead: https://pip.pypa.io/warnings/venv\n"
          ]
        }
      ],
      "source": [
        "%%bash\n",
        "source activate naswot2\n",
        "python --version\n",
        "\n",
        "pip install simplejson"
      ]
    },
    {
      "cell_type": "code",
      "execution_count": null,
      "metadata": {
        "id": "t7HKBlJeJRLl"
      },
      "outputs": [],
      "source": [
        "%%bash\n",
        "source activate naswot2\n",
        "chmod +x scorehook.sh\n",
        "./scorehook.sh"
      ]
    }
  ],
  "metadata": {
    "accelerator": "GPU",
    "colab": {
      "provenance": [],
      "authorship_tag": "ABX9TyOtdvMU6DdcQlfwLlLuf6UX",
      "include_colab_link": true
    },
    "gpuClass": "standard",
    "kernelspec": {
      "display_name": "Python 3",
      "name": "python3"
    },
    "language_info": {
      "name": "python"
    }
  },
  "nbformat": 4,
  "nbformat_minor": 0
}